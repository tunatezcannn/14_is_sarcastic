{
  "nbformat": 4,
  "nbformat_minor": 0,
  "metadata": {
    "colab": {
      "provenance": []
    },
    "kernelspec": {
      "name": "python3",
      "display_name": "Python 3"
    },
    "language_info": {
      "name": "python"
    }
  },
  "cells": [
    {
      "cell_type": "code",
      "source": [
        "import pandas as pd\n",
        "import tensorflow as tf\n",
        "import numpy as np\n",
        "import matplotlib.pyplot as plt"
      ],
      "metadata": {
        "id": "Xzqnte2uFbKi"
      },
      "execution_count": 1,
      "outputs": []
    },
    {
      "cell_type": "code",
      "execution_count": 2,
      "metadata": {
        "colab": {
          "base_uri": "https://localhost:8080/"
        },
        "id": "92HUkfz70JuZ",
        "outputId": "597c5650-ae7e-4f8d-8326-1d9dca7a73dd"
      },
      "outputs": [
        {
          "output_type": "execute_result",
          "data": {
            "text/plain": [
              "[{'is_sarcastic': 1,\n",
              "  'headline': 'thirtysomething scientists unveil doomsday clock of hair loss',\n",
              "  'article_link': 'https://www.theonion.com/thirtysomething-scientists-unveil-doomsday-clock-of-hai-1819586205'},\n",
              " {'is_sarcastic': 0,\n",
              "  'headline': 'dem rep. totally nails why congress is falling short on gender, racial equality',\n",
              "  'article_link': 'https://www.huffingtonpost.com/entry/donna-edwards-inequality_us_57455f7fe4b055bb1170b207'},\n",
              " {'is_sarcastic': 0,\n",
              "  'headline': 'eat your veggies: 9 deliciously different recipes',\n",
              "  'article_link': 'https://www.huffingtonpost.com/entry/eat-your-veggies-9-delici_b_8899742.html'},\n",
              " {'is_sarcastic': 1,\n",
              "  'headline': 'inclement weather prevents liar from getting to work',\n",
              "  'article_link': 'https://local.theonion.com/inclement-weather-prevents-liar-from-getting-to-work-1819576031'},\n",
              " {'is_sarcastic': 1,\n",
              "  'headline': \"mother comes pretty close to using word 'streaming' correctly\",\n",
              "  'article_link': 'https://www.theonion.com/mother-comes-pretty-close-to-using-word-streaming-cor-1819575546'}]"
            ]
          },
          "metadata": {},
          "execution_count": 2
        }
      ],
      "source": [
        "import json\n",
        "\n",
        "def parse_data(file):\n",
        "    for l in open(file,'r'):\n",
        "        yield json.loads(l)\n",
        "\n",
        "data = list(parse_data('/content/Sarcasm_Headlines_Dataset_v2.json'))\n",
        "data[:5]"
      ]
    },
    {
      "cell_type": "code",
      "source": [
        "#I will use only 2000 sample from the data because it takes too long to get every article from the link\n",
        "data = data[:2000]\n",
        "len(data)"
      ],
      "metadata": {
        "colab": {
          "base_uri": "https://localhost:8080/"
        },
        "id": "j_NB4fy_0amU",
        "outputId": "2e6a77b2-0151-41b6-c838-beb40f739dd1"
      },
      "execution_count": 3,
      "outputs": [
        {
          "output_type": "execute_result",
          "data": {
            "text/plain": [
              "2000"
            ]
          },
          "metadata": {},
          "execution_count": 3
        }
      ]
    },
    {
      "cell_type": "code",
      "source": [
        "import csv\n",
        "import requests\n",
        "from bs4 import BeautifulSoup\n",
        "\n",
        "article_texts = []\n",
        "for row in data:\n",
        "  try:\n",
        "    # Extract the headline and URL for this row\n",
        "    headline = row['headline']\n",
        "    url = row['article_link']\n",
        "    is_sarcastic = row[\"is_sarcastic\"]\n",
        "    \n",
        "    # Send a GET request to the URL and retrieve the HTML content\n",
        "    response = requests.get(url)\n",
        "    html_content = response.content\n",
        "    \n",
        "    # Parse the HTML content with Beautiful Soup\n",
        "    soup = BeautifulSoup(html_content, 'html.parser')\n",
        "    \n",
        "    # Find the <article> tag that contains the article content\n",
        "    article = soup.find('article')\n",
        "    \n",
        "    article_text = headline\n",
        "    # Extract the text content from the article\n",
        "    if(article):\n",
        "      article_text = article.get_text()\n",
        "    article_texts.append(article_text)\n",
        "  except:\n",
        "    headline = row['headline']\n",
        "    url = row['article_link']\n",
        "    is_sarcastic = row[\"is_sarcastic\"]\n",
        "    article_texts.append(headline)    \n",
        "    continue"
      ],
      "metadata": {
        "id": "AX2AWjhV1ued"
      },
      "execution_count": 4,
      "outputs": []
    },
    {
      "cell_type": "code",
      "source": [
        "article_texts[:5]"
      ],
      "metadata": {
        "id": "k09HC5OExy9B",
        "colab": {
          "base_uri": "https://localhost:8080/"
        },
        "outputId": "a474df9d-0cf4-4334-a732-8aa977f1e266"
      },
      "execution_count": 5,
      "outputs": [
        {
          "output_type": "execute_result",
          "data": {
            "text/plain": [
              "['thirtysomething scientists unveil doomsday clock of hair loss',\n",
              " 'Rep. Donna Edwards (D-Md.) specifically criticized Democrats for not being inclusive of the voters who have traditionally been loyal to them.The Washington Post via Getty Images\"We are neither post-racial nor post-gender,\" Rep. Donna Edwards (D-Md.) proclaims in a new essay taking on Congress for not addressing inequality. One of the major barriers is that America\\'s elected officials don\\'t represent the most disenfranchised populations, Edwards argues in the Cosmopolitan magazine piece, published on Tuesday.Advertisement\\n\\n\"Can we pass equal pay laws and give women control of their own health-care decisions when women represent just 20 percent of Congress?\" she says. Even when women get elected to office, men still hold the large majority of leadership positions, The New York Times pointed out last year.Edwards, who lost a Senate primary race to Rep. Chris Van Hollen (D-Md.), specifically criticized Democrats for not being inclusive of the voters who have traditionally been loyal to them.\"The Democratic Party will not survive the 21st century with the votes of people of color without the real leadership of people of color, especially black women, at every level.\"The essay is reminiscent of Edwards\\' senate campaign. One male elected official criticized her for invoking \"identity politics.\" Advertisement\\n\\n\"Race does matter,\" she said during one debate.\"It\\'s time that we had the ability to speak for ourselves.\"Edwards\\' recent legislative efforts have included a bill addressing police brutality, the protection of Historically Black Colleges, and the push to encourage women and minorities to pursue careers in science and math. Read her full essay here.RelatedDonna Edwardsdonna edwards racial inequalitydonna edwards racedonna edwards gender inequalitycongress inequalityOscars Producer Reveals Why \\'Harder\\' Jokes About Will Smith Were CutWellesley Students\\' Push For Gender-Inclusive Admission Rejected By School PresidentOscars Producer Explains Jimmy Kimmel\\'s Pronunciation Of Rihanna In His MonologueRelatedDonna Edwardsdonna edwards racial inequalitydonna edwards racedonna edwards gender inequalitycongress inequalityUrsula Finally Surfaces In Disney\\'s Live-Action \\'Little Mermaid\\' TrailerLauren Spencer Was Given 5 Years To Live. 20 Years Later, She\\'s Inspiring Others With A Beautiful Life.Opinion: Jane Fonda Wants You To Know There\\'s Nothing \\'Natural\\' About Natural Disasters Go To HomepageAlana Horowitz SatlinSenior Editor of Breaking News, HuffPost\\nDo you have information you want to share with HuffPost? \\r\\n    Here’s how.\\n\\nSuggest a correctionYou May Like\\n\\n\\n\\nTrendingJudge Orders More Trump Lawyer Testimony In Mar-a-Lago ProbeThis State Is Becoming The Anti-FloridaDonald Trump’s Attorney Confirms He Will Surrender To Authorities If Indicted\\'The Wire\\' Star Lance Reddick Dies At 60Halle Berry Shares Rare Photo Of Teenage Daughter Nahla On Her BirthdayNewsletter Sign UpPoliticsHuffPost\\'s top politics stories, straight to your inbox.Successfully Signed Up!Realness delivered to your inboxBy entering your email and clicking Sign Up, you\\'re agreeing to let us send you customized marketing messages about us and our advertising partners. You are also agreeing to our Terms of Service and Privacy Policy.\\n\\n\\n\\n',\n",
              " \"Vegetables don't have to be boring or relegated to a side dish. From roasted broccoli with chipotle honey butter to balsamic glazed roasted beets, these recipes are so flavorful and satisfying, they could carry an entire meal. 1. Roasted Broccoli with Chipotle Honey ButterIn this recipe, broccoli florets are tossed in a sweet, spicy and smoky chipotle-honey butter before roasting. It's as delicious as it sounds, and the broccoli has enough flavor to carry an entire meal. Serve it as a main course with rice or as a side dish to simply grilled fish or meat. GET THE RECIPEAdvertisement\\n\\n2. Golden Roasted Cauliflower with Pecorino Romano CheeseWant to get your family to love cauliflower? Try roasting it and tossing it with cheese. It worked for me. GET THE RECIPE3. Asian Kale Slaw with Creamy Ginger Peanut DressingBelieve or not, this salad will have you eating your vegetables (and, most surprisingly, your kale) with pleasure and abandon. It's meant to be a side dish, but if you're anything like me, you'll probably find yourself eating the whole lot of it for dinner. GET THE RECIPE4. Balsamic-Glazed Roasted BeetsIf you're a beet lover like I am, you're going to love (and maybe even obsess over) these simply prepared beets. They're oven-roasted, which intensifies their natural sweetness, and then tossed in a tart and syrupy balsamic reduction. GET THE RECIPE5. Stir-Fried Szechuan Green Beans with Shiitake MushroomsGive vegetables the spotlight with this easy and authentic Szechuan dish. It makes a delicious side dish or vegetarian main course with rice or noodles. GET THE RECIPEAdvertisement\\n\\n6. Roasted Brussels Sprouts with Bacon, Pecans & Maple SyrupWhat's not to love about golden roasted brussels sprouts with smoky bacon, toasted pecans and maple syrup? It's hard to resist eating the entire pan right out of the oven! GET THE RECIPE7. Carrot Slaw with Cranberries, Toasted Walnuts & Citrus VinaigretteDried cranberries and toasted walnuts make this carrot slaw colorful and crunchy. I like to serve it with a crusty baguette for a light lunch or as a healthy side to sandwiches or burgers. GET THE RECIPE8. Cauliflower Purée with ThymeThis cauliflower purée is creamy and comforting, and it just happens to taste remarkably like mashed potatoes. It also has the benefit of being easier to make, healthier and lower in carbs. But don't make it just for that reason -- it's delicious in its own right. GET THE RECIPE9. Carrot & Sweet Potato SoupThis warming soup, made with carrots, sweet potatoes, apples and honey, has a secret ingredient: curry powder. It doesn't give the soup an Indian flavor like you might think, but instead lends a subtle hint of autumn spice.  GET THE RECIPERelatedVegetarian Recipeswinter vegetablesTaste Healthy RecipesVegetable Recipes Go To HomepageSuggest a correctionJennifer Segal, ContributorChef, Cookbook Author, Busy MomYou May Like\\n\\n\\n\\nMore In Food & DrinkThe Best Beers (Besides Guinness) To Drink On St. Patrick’s Day, According To Irish Bartenders‘You’re Looking At Her’: Trials And Triumphs Of Women Chefs8 Foods You Should Never Try To Cook In A Cast Iron SkilletHow This TikTok Food Influencer Got 3 Million Followers Without Any Cooking ExpertiseTikTok Claims This Common Cooking Oil Is ‘Toxic.’ Do Experts Agree?TRENDING IN SHOPPINGUlta’s Enormous Beauty Sale Will Save You 50% On Your Favorite ProductsThe Meal Delivery Kit That Actually Passes Muster With A Serious Home CookThis Home Decor From Target Will Make Your Bedroom Feel Less Boring9 Reviewer-Vetted Retinols That You Can Get At Walmart34 Products That'll Make You Want To Write A 'Thank You' Card To YourselfNewsletter Sign UpAn essential daily guide to achieving the good lifeSubscribe to our lifestyle email.Successfully Signed Up!Realness delivered to your inboxBy entering your email and clicking Sign Up, you're agreeing to let us send you customized marketing messages about us and our advertising partners. You are also agreeing to our Terms of Service and Privacy Policy.\\n\\n\\n\\n\",\n",
              " 'inclement weather prevents liar from getting to work',\n",
              " \"mother comes pretty close to using word 'streaming' correctly\"]"
            ]
          },
          "metadata": {},
          "execution_count": 5
        }
      ]
    },
    {
      "cell_type": "code",
      "source": [
        "for index,text in enumerate(article_texts):\n",
        "  data[index][\"article_link\"] = article_texts[index]\n",
        "data[:5]"
      ],
      "metadata": {
        "id": "2gs65oWB0twI",
        "colab": {
          "base_uri": "https://localhost:8080/"
        },
        "outputId": "3b92359c-3d43-4315-e541-4e8feb5cd1f6"
      },
      "execution_count": 6,
      "outputs": [
        {
          "output_type": "execute_result",
          "data": {
            "text/plain": [
              "[{'is_sarcastic': 1,\n",
              "  'headline': 'thirtysomething scientists unveil doomsday clock of hair loss',\n",
              "  'article_link': 'thirtysomething scientists unveil doomsday clock of hair loss'},\n",
              " {'is_sarcastic': 0,\n",
              "  'headline': 'dem rep. totally nails why congress is falling short on gender, racial equality',\n",
              "  'article_link': 'Rep. Donna Edwards (D-Md.) specifically criticized Democrats for not being inclusive of the voters who have traditionally been loyal to them.The Washington Post via Getty Images\"We are neither post-racial nor post-gender,\" Rep. Donna Edwards (D-Md.) proclaims in a new essay taking on Congress for not addressing inequality. One of the major barriers is that America\\'s elected officials don\\'t represent the most disenfranchised populations, Edwards argues in the Cosmopolitan magazine piece, published on Tuesday.Advertisement\\n\\n\"Can we pass equal pay laws and give women control of their own health-care decisions when women represent just 20 percent of Congress?\" she says. Even when women get elected to office, men still hold the large majority of leadership positions, The New York Times pointed out last year.Edwards, who lost a Senate primary race to Rep. Chris Van Hollen (D-Md.), specifically criticized Democrats for not being inclusive of the voters who have traditionally been loyal to them.\"The Democratic Party will not survive the 21st century with the votes of people of color without the real leadership of people of color, especially black women, at every level.\"The essay is reminiscent of Edwards\\' senate campaign. One male elected official criticized her for invoking \"identity politics.\" Advertisement\\n\\n\"Race does matter,\" she said during one debate.\"It\\'s time that we had the ability to speak for ourselves.\"Edwards\\' recent legislative efforts have included a bill addressing police brutality, the protection of Historically Black Colleges, and the push to encourage women and minorities to pursue careers in science and math. Read her full essay here.RelatedDonna Edwardsdonna edwards racial inequalitydonna edwards racedonna edwards gender inequalitycongress inequalityOscars Producer Reveals Why \\'Harder\\' Jokes About Will Smith Were CutWellesley Students\\' Push For Gender-Inclusive Admission Rejected By School PresidentOscars Producer Explains Jimmy Kimmel\\'s Pronunciation Of Rihanna In His MonologueRelatedDonna Edwardsdonna edwards racial inequalitydonna edwards racedonna edwards gender inequalitycongress inequalityUrsula Finally Surfaces In Disney\\'s Live-Action \\'Little Mermaid\\' TrailerLauren Spencer Was Given 5 Years To Live. 20 Years Later, She\\'s Inspiring Others With A Beautiful Life.Opinion: Jane Fonda Wants You To Know There\\'s Nothing \\'Natural\\' About Natural Disasters Go To HomepageAlana Horowitz SatlinSenior Editor of Breaking News, HuffPost\\nDo you have information you want to share with HuffPost? \\r\\n    Here’s how.\\n\\nSuggest a correctionYou May Like\\n\\n\\n\\nTrendingJudge Orders More Trump Lawyer Testimony In Mar-a-Lago ProbeThis State Is Becoming The Anti-FloridaDonald Trump’s Attorney Confirms He Will Surrender To Authorities If Indicted\\'The Wire\\' Star Lance Reddick Dies At 60Halle Berry Shares Rare Photo Of Teenage Daughter Nahla On Her BirthdayNewsletter Sign UpPoliticsHuffPost\\'s top politics stories, straight to your inbox.Successfully Signed Up!Realness delivered to your inboxBy entering your email and clicking Sign Up, you\\'re agreeing to let us send you customized marketing messages about us and our advertising partners. You are also agreeing to our Terms of Service and Privacy Policy.\\n\\n\\n\\n'},\n",
              " {'is_sarcastic': 0,\n",
              "  'headline': 'eat your veggies: 9 deliciously different recipes',\n",
              "  'article_link': \"Vegetables don't have to be boring or relegated to a side dish. From roasted broccoli with chipotle honey butter to balsamic glazed roasted beets, these recipes are so flavorful and satisfying, they could carry an entire meal. 1. Roasted Broccoli with Chipotle Honey ButterIn this recipe, broccoli florets are tossed in a sweet, spicy and smoky chipotle-honey butter before roasting. It's as delicious as it sounds, and the broccoli has enough flavor to carry an entire meal. Serve it as a main course with rice or as a side dish to simply grilled fish or meat. GET THE RECIPEAdvertisement\\n\\n2. Golden Roasted Cauliflower with Pecorino Romano CheeseWant to get your family to love cauliflower? Try roasting it and tossing it with cheese. It worked for me. GET THE RECIPE3. Asian Kale Slaw with Creamy Ginger Peanut DressingBelieve or not, this salad will have you eating your vegetables (and, most surprisingly, your kale) with pleasure and abandon. It's meant to be a side dish, but if you're anything like me, you'll probably find yourself eating the whole lot of it for dinner. GET THE RECIPE4. Balsamic-Glazed Roasted BeetsIf you're a beet lover like I am, you're going to love (and maybe even obsess over) these simply prepared beets. They're oven-roasted, which intensifies their natural sweetness, and then tossed in a tart and syrupy balsamic reduction. GET THE RECIPE5. Stir-Fried Szechuan Green Beans with Shiitake MushroomsGive vegetables the spotlight with this easy and authentic Szechuan dish. It makes a delicious side dish or vegetarian main course with rice or noodles. GET THE RECIPEAdvertisement\\n\\n6. Roasted Brussels Sprouts with Bacon, Pecans & Maple SyrupWhat's not to love about golden roasted brussels sprouts with smoky bacon, toasted pecans and maple syrup? It's hard to resist eating the entire pan right out of the oven! GET THE RECIPE7. Carrot Slaw with Cranberries, Toasted Walnuts & Citrus VinaigretteDried cranberries and toasted walnuts make this carrot slaw colorful and crunchy. I like to serve it with a crusty baguette for a light lunch or as a healthy side to sandwiches or burgers. GET THE RECIPE8. Cauliflower Purée with ThymeThis cauliflower purée is creamy and comforting, and it just happens to taste remarkably like mashed potatoes. It also has the benefit of being easier to make, healthier and lower in carbs. But don't make it just for that reason -- it's delicious in its own right. GET THE RECIPE9. Carrot & Sweet Potato SoupThis warming soup, made with carrots, sweet potatoes, apples and honey, has a secret ingredient: curry powder. It doesn't give the soup an Indian flavor like you might think, but instead lends a subtle hint of autumn spice.  GET THE RECIPERelatedVegetarian Recipeswinter vegetablesTaste Healthy RecipesVegetable Recipes Go To HomepageSuggest a correctionJennifer Segal, ContributorChef, Cookbook Author, Busy MomYou May Like\\n\\n\\n\\nMore In Food & DrinkThe Best Beers (Besides Guinness) To Drink On St. Patrick’s Day, According To Irish Bartenders‘You’re Looking At Her’: Trials And Triumphs Of Women Chefs8 Foods You Should Never Try To Cook In A Cast Iron SkilletHow This TikTok Food Influencer Got 3 Million Followers Without Any Cooking ExpertiseTikTok Claims This Common Cooking Oil Is ‘Toxic.’ Do Experts Agree?TRENDING IN SHOPPINGUlta’s Enormous Beauty Sale Will Save You 50% On Your Favorite ProductsThe Meal Delivery Kit That Actually Passes Muster With A Serious Home CookThis Home Decor From Target Will Make Your Bedroom Feel Less Boring9 Reviewer-Vetted Retinols That You Can Get At Walmart34 Products That'll Make You Want To Write A 'Thank You' Card To YourselfNewsletter Sign UpAn essential daily guide to achieving the good lifeSubscribe to our lifestyle email.Successfully Signed Up!Realness delivered to your inboxBy entering your email and clicking Sign Up, you're agreeing to let us send you customized marketing messages about us and our advertising partners. You are also agreeing to our Terms of Service and Privacy Policy.\\n\\n\\n\\n\"},\n",
              " {'is_sarcastic': 1,\n",
              "  'headline': 'inclement weather prevents liar from getting to work',\n",
              "  'article_link': 'inclement weather prevents liar from getting to work'},\n",
              " {'is_sarcastic': 1,\n",
              "  'headline': \"mother comes pretty close to using word 'streaming' correctly\",\n",
              "  'article_link': \"mother comes pretty close to using word 'streaming' correctly\"}]"
            ]
          },
          "metadata": {},
          "execution_count": 6
        }
      ]
    },
    {
      "cell_type": "code",
      "source": [
        "headlines = []\n",
        "article_texts = article_texts\n",
        "is_sarcastic = []\n",
        "\n",
        "for index,dic in enumerate(data):\n",
        "  headlines.append(dic[\"headline\"])\n",
        "  is_sarcastic.append(dic[\"is_sarcastic\"])\n",
        "\n",
        "all_data = pd.DataFrame({\"headlines\":headlines,\n",
        "                         \"article_texts\":article_texts,\n",
        "                         \"is_sarcastic\":is_sarcastic})\n"
      ],
      "metadata": {
        "id": "JY-Oejs6FFRY"
      },
      "execution_count": 7,
      "outputs": []
    },
    {
      "cell_type": "code",
      "source": [
        "all_data.head()"
      ],
      "metadata": {
        "colab": {
          "base_uri": "https://localhost:8080/",
          "height": 206
        },
        "id": "3OF1jpqjFl6f",
        "outputId": "ddab5b33-6c9d-4635-ef47-d547dc333045"
      },
      "execution_count": 8,
      "outputs": [
        {
          "output_type": "execute_result",
          "data": {
            "text/plain": [
              "                                           headlines  \\\n",
              "0  thirtysomething scientists unveil doomsday clo...   \n",
              "1  dem rep. totally nails why congress is falling...   \n",
              "2  eat your veggies: 9 deliciously different recipes   \n",
              "3  inclement weather prevents liar from getting t...   \n",
              "4  mother comes pretty close to using word 'strea...   \n",
              "\n",
              "                                       article_texts  is_sarcastic  \n",
              "0  thirtysomething scientists unveil doomsday clo...             1  \n",
              "1  Rep. Donna Edwards (D-Md.) specifically critic...             0  \n",
              "2  Vegetables don't have to be boring or relegate...             0  \n",
              "3  inclement weather prevents liar from getting t...             1  \n",
              "4  mother comes pretty close to using word 'strea...             1  "
            ],
            "text/html": [
              "\n",
              "  <div id=\"df-3da33a48-9677-4788-b952-beef117cc7a3\">\n",
              "    <div class=\"colab-df-container\">\n",
              "      <div>\n",
              "<style scoped>\n",
              "    .dataframe tbody tr th:only-of-type {\n",
              "        vertical-align: middle;\n",
              "    }\n",
              "\n",
              "    .dataframe tbody tr th {\n",
              "        vertical-align: top;\n",
              "    }\n",
              "\n",
              "    .dataframe thead th {\n",
              "        text-align: right;\n",
              "    }\n",
              "</style>\n",
              "<table border=\"1\" class=\"dataframe\">\n",
              "  <thead>\n",
              "    <tr style=\"text-align: right;\">\n",
              "      <th></th>\n",
              "      <th>headlines</th>\n",
              "      <th>article_texts</th>\n",
              "      <th>is_sarcastic</th>\n",
              "    </tr>\n",
              "  </thead>\n",
              "  <tbody>\n",
              "    <tr>\n",
              "      <th>0</th>\n",
              "      <td>thirtysomething scientists unveil doomsday clo...</td>\n",
              "      <td>thirtysomething scientists unveil doomsday clo...</td>\n",
              "      <td>1</td>\n",
              "    </tr>\n",
              "    <tr>\n",
              "      <th>1</th>\n",
              "      <td>dem rep. totally nails why congress is falling...</td>\n",
              "      <td>Rep. Donna Edwards (D-Md.) specifically critic...</td>\n",
              "      <td>0</td>\n",
              "    </tr>\n",
              "    <tr>\n",
              "      <th>2</th>\n",
              "      <td>eat your veggies: 9 deliciously different recipes</td>\n",
              "      <td>Vegetables don't have to be boring or relegate...</td>\n",
              "      <td>0</td>\n",
              "    </tr>\n",
              "    <tr>\n",
              "      <th>3</th>\n",
              "      <td>inclement weather prevents liar from getting t...</td>\n",
              "      <td>inclement weather prevents liar from getting t...</td>\n",
              "      <td>1</td>\n",
              "    </tr>\n",
              "    <tr>\n",
              "      <th>4</th>\n",
              "      <td>mother comes pretty close to using word 'strea...</td>\n",
              "      <td>mother comes pretty close to using word 'strea...</td>\n",
              "      <td>1</td>\n",
              "    </tr>\n",
              "  </tbody>\n",
              "</table>\n",
              "</div>\n",
              "      <button class=\"colab-df-convert\" onclick=\"convertToInteractive('df-3da33a48-9677-4788-b952-beef117cc7a3')\"\n",
              "              title=\"Convert this dataframe to an interactive table.\"\n",
              "              style=\"display:none;\">\n",
              "        \n",
              "  <svg xmlns=\"http://www.w3.org/2000/svg\" height=\"24px\"viewBox=\"0 0 24 24\"\n",
              "       width=\"24px\">\n",
              "    <path d=\"M0 0h24v24H0V0z\" fill=\"none\"/>\n",
              "    <path d=\"M18.56 5.44l.94 2.06.94-2.06 2.06-.94-2.06-.94-.94-2.06-.94 2.06-2.06.94zm-11 1L8.5 8.5l.94-2.06 2.06-.94-2.06-.94L8.5 2.5l-.94 2.06-2.06.94zm10 10l.94 2.06.94-2.06 2.06-.94-2.06-.94-.94-2.06-.94 2.06-2.06.94z\"/><path d=\"M17.41 7.96l-1.37-1.37c-.4-.4-.92-.59-1.43-.59-.52 0-1.04.2-1.43.59L10.3 9.45l-7.72 7.72c-.78.78-.78 2.05 0 2.83L4 21.41c.39.39.9.59 1.41.59.51 0 1.02-.2 1.41-.59l7.78-7.78 2.81-2.81c.8-.78.8-2.07 0-2.86zM5.41 20L4 18.59l7.72-7.72 1.47 1.35L5.41 20z\"/>\n",
              "  </svg>\n",
              "      </button>\n",
              "      \n",
              "  <style>\n",
              "    .colab-df-container {\n",
              "      display:flex;\n",
              "      flex-wrap:wrap;\n",
              "      gap: 12px;\n",
              "    }\n",
              "\n",
              "    .colab-df-convert {\n",
              "      background-color: #E8F0FE;\n",
              "      border: none;\n",
              "      border-radius: 50%;\n",
              "      cursor: pointer;\n",
              "      display: none;\n",
              "      fill: #1967D2;\n",
              "      height: 32px;\n",
              "      padding: 0 0 0 0;\n",
              "      width: 32px;\n",
              "    }\n",
              "\n",
              "    .colab-df-convert:hover {\n",
              "      background-color: #E2EBFA;\n",
              "      box-shadow: 0px 1px 2px rgba(60, 64, 67, 0.3), 0px 1px 3px 1px rgba(60, 64, 67, 0.15);\n",
              "      fill: #174EA6;\n",
              "    }\n",
              "\n",
              "    [theme=dark] .colab-df-convert {\n",
              "      background-color: #3B4455;\n",
              "      fill: #D2E3FC;\n",
              "    }\n",
              "\n",
              "    [theme=dark] .colab-df-convert:hover {\n",
              "      background-color: #434B5C;\n",
              "      box-shadow: 0px 1px 3px 1px rgba(0, 0, 0, 0.15);\n",
              "      filter: drop-shadow(0px 1px 2px rgba(0, 0, 0, 0.3));\n",
              "      fill: #FFFFFF;\n",
              "    }\n",
              "  </style>\n",
              "\n",
              "      <script>\n",
              "        const buttonEl =\n",
              "          document.querySelector('#df-3da33a48-9677-4788-b952-beef117cc7a3 button.colab-df-convert');\n",
              "        buttonEl.style.display =\n",
              "          google.colab.kernel.accessAllowed ? 'block' : 'none';\n",
              "\n",
              "        async function convertToInteractive(key) {\n",
              "          const element = document.querySelector('#df-3da33a48-9677-4788-b952-beef117cc7a3');\n",
              "          const dataTable =\n",
              "            await google.colab.kernel.invokeFunction('convertToInteractive',\n",
              "                                                     [key], {});\n",
              "          if (!dataTable) return;\n",
              "\n",
              "          const docLinkHtml = 'Like what you see? Visit the ' +\n",
              "            '<a target=\"_blank\" href=https://colab.research.google.com/notebooks/data_table.ipynb>data table notebook</a>'\n",
              "            + ' to learn more about interactive tables.';\n",
              "          element.innerHTML = '';\n",
              "          dataTable['output_type'] = 'display_data';\n",
              "          await google.colab.output.renderOutput(dataTable, element);\n",
              "          const docLink = document.createElement('div');\n",
              "          docLink.innerHTML = docLinkHtml;\n",
              "          element.appendChild(docLink);\n",
              "        }\n",
              "      </script>\n",
              "    </div>\n",
              "  </div>\n",
              "  "
            ]
          },
          "metadata": {},
          "execution_count": 8
        }
      ]
    },
    {
      "cell_type": "code",
      "source": [
        "y = all_data[\"is_sarcastic\"]\n",
        "X = all_data.drop(\"is_sarcastic\",axis=1)\n",
        "\n",
        "X.head()"
      ],
      "metadata": {
        "colab": {
          "base_uri": "https://localhost:8080/",
          "height": 206
        },
        "id": "NYZ7yp6xHovG",
        "outputId": "32c465c7-ce36-4cff-eea3-725804b3adbb"
      },
      "execution_count": 9,
      "outputs": [
        {
          "output_type": "execute_result",
          "data": {
            "text/plain": [
              "                                           headlines  \\\n",
              "0  thirtysomething scientists unveil doomsday clo...   \n",
              "1  dem rep. totally nails why congress is falling...   \n",
              "2  eat your veggies: 9 deliciously different recipes   \n",
              "3  inclement weather prevents liar from getting t...   \n",
              "4  mother comes pretty close to using word 'strea...   \n",
              "\n",
              "                                       article_texts  \n",
              "0  thirtysomething scientists unveil doomsday clo...  \n",
              "1  Rep. Donna Edwards (D-Md.) specifically critic...  \n",
              "2  Vegetables don't have to be boring or relegate...  \n",
              "3  inclement weather prevents liar from getting t...  \n",
              "4  mother comes pretty close to using word 'strea...  "
            ],
            "text/html": [
              "\n",
              "  <div id=\"df-128155a8-814e-44fa-857a-12e8a3997b6f\">\n",
              "    <div class=\"colab-df-container\">\n",
              "      <div>\n",
              "<style scoped>\n",
              "    .dataframe tbody tr th:only-of-type {\n",
              "        vertical-align: middle;\n",
              "    }\n",
              "\n",
              "    .dataframe tbody tr th {\n",
              "        vertical-align: top;\n",
              "    }\n",
              "\n",
              "    .dataframe thead th {\n",
              "        text-align: right;\n",
              "    }\n",
              "</style>\n",
              "<table border=\"1\" class=\"dataframe\">\n",
              "  <thead>\n",
              "    <tr style=\"text-align: right;\">\n",
              "      <th></th>\n",
              "      <th>headlines</th>\n",
              "      <th>article_texts</th>\n",
              "    </tr>\n",
              "  </thead>\n",
              "  <tbody>\n",
              "    <tr>\n",
              "      <th>0</th>\n",
              "      <td>thirtysomething scientists unveil doomsday clo...</td>\n",
              "      <td>thirtysomething scientists unveil doomsday clo...</td>\n",
              "    </tr>\n",
              "    <tr>\n",
              "      <th>1</th>\n",
              "      <td>dem rep. totally nails why congress is falling...</td>\n",
              "      <td>Rep. Donna Edwards (D-Md.) specifically critic...</td>\n",
              "    </tr>\n",
              "    <tr>\n",
              "      <th>2</th>\n",
              "      <td>eat your veggies: 9 deliciously different recipes</td>\n",
              "      <td>Vegetables don't have to be boring or relegate...</td>\n",
              "    </tr>\n",
              "    <tr>\n",
              "      <th>3</th>\n",
              "      <td>inclement weather prevents liar from getting t...</td>\n",
              "      <td>inclement weather prevents liar from getting t...</td>\n",
              "    </tr>\n",
              "    <tr>\n",
              "      <th>4</th>\n",
              "      <td>mother comes pretty close to using word 'strea...</td>\n",
              "      <td>mother comes pretty close to using word 'strea...</td>\n",
              "    </tr>\n",
              "  </tbody>\n",
              "</table>\n",
              "</div>\n",
              "      <button class=\"colab-df-convert\" onclick=\"convertToInteractive('df-128155a8-814e-44fa-857a-12e8a3997b6f')\"\n",
              "              title=\"Convert this dataframe to an interactive table.\"\n",
              "              style=\"display:none;\">\n",
              "        \n",
              "  <svg xmlns=\"http://www.w3.org/2000/svg\" height=\"24px\"viewBox=\"0 0 24 24\"\n",
              "       width=\"24px\">\n",
              "    <path d=\"M0 0h24v24H0V0z\" fill=\"none\"/>\n",
              "    <path d=\"M18.56 5.44l.94 2.06.94-2.06 2.06-.94-2.06-.94-.94-2.06-.94 2.06-2.06.94zm-11 1L8.5 8.5l.94-2.06 2.06-.94-2.06-.94L8.5 2.5l-.94 2.06-2.06.94zm10 10l.94 2.06.94-2.06 2.06-.94-2.06-.94-.94-2.06-.94 2.06-2.06.94z\"/><path d=\"M17.41 7.96l-1.37-1.37c-.4-.4-.92-.59-1.43-.59-.52 0-1.04.2-1.43.59L10.3 9.45l-7.72 7.72c-.78.78-.78 2.05 0 2.83L4 21.41c.39.39.9.59 1.41.59.51 0 1.02-.2 1.41-.59l7.78-7.78 2.81-2.81c.8-.78.8-2.07 0-2.86zM5.41 20L4 18.59l7.72-7.72 1.47 1.35L5.41 20z\"/>\n",
              "  </svg>\n",
              "      </button>\n",
              "      \n",
              "  <style>\n",
              "    .colab-df-container {\n",
              "      display:flex;\n",
              "      flex-wrap:wrap;\n",
              "      gap: 12px;\n",
              "    }\n",
              "\n",
              "    .colab-df-convert {\n",
              "      background-color: #E8F0FE;\n",
              "      border: none;\n",
              "      border-radius: 50%;\n",
              "      cursor: pointer;\n",
              "      display: none;\n",
              "      fill: #1967D2;\n",
              "      height: 32px;\n",
              "      padding: 0 0 0 0;\n",
              "      width: 32px;\n",
              "    }\n",
              "\n",
              "    .colab-df-convert:hover {\n",
              "      background-color: #E2EBFA;\n",
              "      box-shadow: 0px 1px 2px rgba(60, 64, 67, 0.3), 0px 1px 3px 1px rgba(60, 64, 67, 0.15);\n",
              "      fill: #174EA6;\n",
              "    }\n",
              "\n",
              "    [theme=dark] .colab-df-convert {\n",
              "      background-color: #3B4455;\n",
              "      fill: #D2E3FC;\n",
              "    }\n",
              "\n",
              "    [theme=dark] .colab-df-convert:hover {\n",
              "      background-color: #434B5C;\n",
              "      box-shadow: 0px 1px 3px 1px rgba(0, 0, 0, 0.15);\n",
              "      filter: drop-shadow(0px 1px 2px rgba(0, 0, 0, 0.3));\n",
              "      fill: #FFFFFF;\n",
              "    }\n",
              "  </style>\n",
              "\n",
              "      <script>\n",
              "        const buttonEl =\n",
              "          document.querySelector('#df-128155a8-814e-44fa-857a-12e8a3997b6f button.colab-df-convert');\n",
              "        buttonEl.style.display =\n",
              "          google.colab.kernel.accessAllowed ? 'block' : 'none';\n",
              "\n",
              "        async function convertToInteractive(key) {\n",
              "          const element = document.querySelector('#df-128155a8-814e-44fa-857a-12e8a3997b6f');\n",
              "          const dataTable =\n",
              "            await google.colab.kernel.invokeFunction('convertToInteractive',\n",
              "                                                     [key], {});\n",
              "          if (!dataTable) return;\n",
              "\n",
              "          const docLinkHtml = 'Like what you see? Visit the ' +\n",
              "            '<a target=\"_blank\" href=https://colab.research.google.com/notebooks/data_table.ipynb>data table notebook</a>'\n",
              "            + ' to learn more about interactive tables.';\n",
              "          element.innerHTML = '';\n",
              "          dataTable['output_type'] = 'display_data';\n",
              "          await google.colab.output.renderOutput(dataTable, element);\n",
              "          const docLink = document.createElement('div');\n",
              "          docLink.innerHTML = docLinkHtml;\n",
              "          element.appendChild(docLink);\n",
              "        }\n",
              "      </script>\n",
              "    </div>\n",
              "  </div>\n",
              "  "
            ]
          },
          "metadata": {},
          "execution_count": 9
        }
      ]
    },
    {
      "cell_type": "code",
      "source": [
        "from sklearn.model_selection import train_test_split\n",
        "X_train,X_test,y_train,y_test = train_test_split(X,y,test_size = 0.2,random_state = 42)\n",
        "\n",
        "len(X_train),len(X_test),len(y_train),len(y_test)"
      ],
      "metadata": {
        "colab": {
          "base_uri": "https://localhost:8080/"
        },
        "id": "_YcdVYUZGd6Y",
        "outputId": "3d915ec9-7595-4c32-d378-1054ac1a262a"
      },
      "execution_count": 10,
      "outputs": [
        {
          "output_type": "execute_result",
          "data": {
            "text/plain": [
              "(1600, 400, 1600, 400)"
            ]
          },
          "metadata": {},
          "execution_count": 10
        }
      ]
    },
    {
      "cell_type": "code",
      "source": [
        "from sklearn.feature_extraction.text import TfidfVectorizer\n",
        "from sklearn.linear_model import LogisticRegression\n",
        "from sklearn.metrics import accuracy_score\n",
        "\n",
        "vectorizer = TfidfVectorizer(stop_words='english',max_features=10000)\n",
        "X_train_vec = vectorizer.fit_transform(X_train['headlines'] + ' ' + X_train['article_texts'])\n",
        "X_test_vec = vectorizer.transform(X_test['headlines'] + ' ' + X_test['article_texts'])\n",
        "\n",
        "# Train logistic regression model\n",
        "model = LogisticRegression()\n",
        "model.fit(X_train_vec, y_train)\n",
        "\n",
        "# Make predictions on testing data\n",
        "y_pred = model.predict(X_test_vec)\n",
        "\n",
        "# Evaluate model performance\n",
        "accuracy = accuracy_score(y_test, y_pred)\n",
        "print(\"Accuracy: {:.2f}%\".format(accuracy*100))"
      ],
      "metadata": {
        "colab": {
          "base_uri": "https://localhost:8080/"
        },
        "id": "jd75BYkZH8XX",
        "outputId": "f23d90c1-d7ac-4a39-d9c5-a6113fdb0e40"
      },
      "execution_count": 11,
      "outputs": [
        {
          "output_type": "stream",
          "name": "stdout",
          "text": [
            "Accuracy: 95.50%\n"
          ]
        }
      ]
    },
    {
      "cell_type": "code",
      "source": [
        "from sklearn.naive_bayes import MultinomialNB\n",
        "from sklearn.metrics import classification_report\n",
        "\n",
        "# Train Naive Bayes model\n",
        "nb_model = MultinomialNB()\n",
        "nb_model.fit(X_train_vec, y_train)\n",
        "\n",
        "# Make predictions on testing data\n",
        "y_pred = nb_model.predict(X_test_vec)\n",
        "\n",
        "# Evaluate model performance\n",
        "accuracy = accuracy_score(y_test, y_pred)\n",
        "print(\"Accuracy: {:.2f}%\".format(accuracy*100))\n",
        "\n",
        "# Print classification report\n",
        "print(classification_report(y_test, y_pred))"
      ],
      "metadata": {
        "colab": {
          "base_uri": "https://localhost:8080/"
        },
        "id": "4xaamk2aIhjJ",
        "outputId": "fa165c30-4df8-4305-de72-2d796e91cce0"
      },
      "execution_count": 12,
      "outputs": [
        {
          "output_type": "stream",
          "name": "stdout",
          "text": [
            "Accuracy: 82.50%\n",
            "              precision    recall  f1-score   support\n",
            "\n",
            "           0       0.76      0.99      0.86       215\n",
            "           1       0.98      0.63      0.77       185\n",
            "\n",
            "    accuracy                           0.82       400\n",
            "   macro avg       0.87      0.81      0.81       400\n",
            "weighted avg       0.86      0.82      0.82       400\n",
            "\n"
          ]
        }
      ]
    },
    {
      "cell_type": "code",
      "source": [
        "from sklearn.ensemble import RandomForestClassifier\n",
        "from sklearn.metrics import classification_report\n",
        "\n",
        "# Train Random Forest model\n",
        "rf_model = RandomForestClassifier(n_estimators=100, random_state=42)\n",
        "rf_model.fit(X_train_vec, y_train)\n",
        "\n",
        "# Make predictions on testing data\n",
        "y_pred = rf_model.predict(X_test_vec)\n",
        "\n",
        "# Evaluate model performance\n",
        "accuracy = accuracy_score(y_test, y_pred)\n",
        "print(\"Accuracy: {:.2f}%\".format(accuracy*100))\n",
        "\n",
        "# Print classification report\n",
        "print(classification_report(y_test, y_pred))"
      ],
      "metadata": {
        "colab": {
          "base_uri": "https://localhost:8080/"
        },
        "id": "-d8RC01hI-Bh",
        "outputId": "ee6c6722-d58a-47c2-abb7-adf4d42a9cff"
      },
      "execution_count": 13,
      "outputs": [
        {
          "output_type": "stream",
          "name": "stdout",
          "text": [
            "Accuracy: 96.25%\n",
            "              precision    recall  f1-score   support\n",
            "\n",
            "           0       1.00      0.93      0.96       215\n",
            "           1       0.93      1.00      0.96       185\n",
            "\n",
            "    accuracy                           0.96       400\n",
            "   macro avg       0.96      0.97      0.96       400\n",
            "weighted avg       0.97      0.96      0.96       400\n",
            "\n"
          ]
        }
      ]
    },
    {
      "cell_type": "code",
      "source": [
        "from sklearn.svm import SVC\n",
        "from sklearn.metrics import classification_report\n",
        "\n",
        "# Train SVM model\n",
        "svm_model = SVC(kernel='linear', C=1, random_state=42)\n",
        "svm_model.fit(X_train_vec, y_train)\n",
        "\n",
        "# Make predictions on testing data\n",
        "y_pred = svm_model.predict(X_test_vec)\n",
        "\n",
        "# Evaluate model performance\n",
        "accuracy = accuracy_score(y_test, y_pred)\n",
        "print(\"Accuracy: {:.2f}%\".format(accuracy*100))\n",
        "\n",
        "# Print classification report\n",
        "print(classification_report(y_test, y_pred))"
      ],
      "metadata": {
        "colab": {
          "base_uri": "https://localhost:8080/"
        },
        "id": "AX-3RZ6qJBEg",
        "outputId": "336841fc-4b92-406e-9072-e6e0b0fb4b13"
      },
      "execution_count": 14,
      "outputs": [
        {
          "output_type": "stream",
          "name": "stdout",
          "text": [
            "Accuracy: 95.75%\n",
            "              precision    recall  f1-score   support\n",
            "\n",
            "           0       1.00      0.92      0.96       215\n",
            "           1       0.92      1.00      0.96       185\n",
            "\n",
            "    accuracy                           0.96       400\n",
            "   macro avg       0.96      0.96      0.96       400\n",
            "weighted avg       0.96      0.96      0.96       400\n",
            "\n"
          ]
        }
      ]
    },
    {
      "cell_type": "code",
      "source": [],
      "metadata": {
        "id": "z4yIu9GsJEYA"
      },
      "execution_count": 14,
      "outputs": []
    }
  ]
}